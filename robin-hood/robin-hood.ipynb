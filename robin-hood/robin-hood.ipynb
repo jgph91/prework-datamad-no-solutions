{
 "cells": [
  {
   "cell_type": "markdown",
   "metadata": {},
   "source": [
    "# Robin Hood\n",
    "## Intro\n",
    "We are in a competition to win the archery contest in Sherwood. With our bow and arrows we shoot on a target and try to hit as close as possible to the center.\n",
    "\n",
    "The center of the target is represented by the values (0, 0) on the coordinate axes.\n",
    "\n",
    "![](images/arrows.jpg)\n",
    "\n",
    "## Goals:\n",
    "* data structures: lists, sets, tuples\n",
    "* logical operators: if-elif-else\n",
    "* loop: while/for\n",
    "* minimum (optional sorting)\n",
    "\n",
    "## Description:\n",
    "In the 2-dimensional space, a point can be defined by a pair of values that correspond to the horizontal coordinate (x) and the vertical coordinate (y). The space can be divided into 4 zones (quadrants): Q1, Q2, Q3, Q4. Whose single point of union is the point (0, 0).\n",
    "\n",
    "If a point is in Q1 both its x coordinate and the y are positive. I leave a link to wikipedia to familiarize yourself with these quadrants.\n",
    "\n",
    "https://en.wikipedia.org/wiki/Cartesian_coordinate_system\n",
    "\n",
    "https://en.wikipedia.org/wiki/Euclidean_distance\n",
    "\n",
    "## Shots\n",
    "```\n",
    "points = [(4, 5), (-0, 2), (4, 7), (1, -3), (3, -2), (4, 5),\n",
    "          (3, 2), (5, 7), (-5, 7), (2, 2), (-4, 5), (0, -2),\n",
    "          (-4, 7), (-1, 3), (-3, 2), (-4, -5), (-3, 2),\n",
    "          (5, 7), (5, 7), (2, 2), (9, 9), (-8, -9)]\n",
    "```\n",
    "\n",
    "## Tasks\n",
    "1. Robin Hood is famous for hitting an arrow with another arrow. Did you get it?\n",
    "2. Calculate how many arrows have fallen in each quadrant.\n",
    "3. Find the point closest to the center. Calculate its distance to the center. \n",
    "4. If the target has a radius of 9, calculate the number of arrows that must be picked up in the forest."
   ]
  },
  {
   "cell_type": "code",
   "execution_count": 5,
   "metadata": {},
   "outputs": [],
   "source": [
    "# Variables\n",
    "\n",
    "points = [(4, 5), (-0, 2), (4, 7), (1, -3), (3, -2), (4, 5),\n",
    "          (3, 2), (5, 7), (-5, 7), (2, 2), (-4, 5), (0, -2),\n",
    "          (-4, 7), (-1, 3), (-3, 2), (-4, -5), (-3, 2),\n",
    "          (5, 7), (5, 7), (2, 2), (9, 9), (-8, -9)]"
   ]
  },
  {
   "cell_type": "code",
   "execution_count": 6,
   "metadata": {},
   "outputs": [
    {
     "name": "stdout",
     "output_type": "stream",
     "text": [
      "(4, 5)\n",
      "(-3, 2)\n",
      "(5, 7)\n",
      "(5, 7)\n",
      "(2, 2)\n",
      "5  times an arrow was hit\n"
     ]
    }
   ],
   "source": [
    "# 1. Robin Hood is famous for hitting an arrow with another arrow. Did you get it?\n",
    "\n",
    "points_repeat = []\n",
    "n= 0\n",
    "\n",
    "\n",
    "for e in points:\n",
    "    \n",
    "    if e in points_repeat:\n",
    "        n += 1\n",
    "        \n",
    "        print(e)\n",
    "    points_repeat.append(e)\n",
    "    \n",
    "print(n,\" times an arrow was hit\")"
   ]
  },
  {
   "cell_type": "markdown",
   "metadata": {},
   "source": [
    "**Expected output**:\n",
    "```\n",
    "True\n",
    "```"
   ]
  },
  {
   "cell_type": "code",
   "execution_count": 7,
   "metadata": {},
   "outputs": [
    {
     "name": "stdout",
     "output_type": "stream",
     "text": [
      "first quadrant:  10 arrows\n",
      " second quadrant:  6 arrows\n",
      " third quadrant:  2 arrows\n",
      " fourth quadrant:  0 arrows\n",
      " x axis:  0 arrows\n",
      " y axis:  2 arrows.\n"
     ]
    }
   ],
   "source": [
    "# 2. Calculate how many arrows have fallen in each quadrant.\n",
    "\n",
    "first_quadrant = 0\n",
    "second_quadrant = 0\n",
    "third_quadrant = 0\n",
    "fourth_quadrant = 0\n",
    "x_axis = 0\n",
    "y_axis = 0\n",
    "\n",
    "for i,j in points:\n",
    "    if i == 0:\n",
    "        y_axis += 1\n",
    "        \n",
    "    elif j == 0:\n",
    "        x_axis += 1\n",
    "        \n",
    "    elif i > 0 and j > 0:\n",
    "        first_quadrant+= 1\n",
    "        \n",
    "    elif i < 0 and j > 0:\n",
    "        second_quadrant += 1\n",
    "    \n",
    "    elif i < 0 and j < 0:\n",
    "        third_quadrant += 1\n",
    "        \n",
    "    elif i < 0 and j > 0:\n",
    "        fourth_quadrant +=1\n",
    "        \n",
    "print (\"first quadrant: \", str(first_quadrant),\"arrows\\n\",\"second quadrant: \",str(second_quadrant),\"arrows\\n\",\n",
    "       \"third quadrant: \",str(third_quadrant),\"arrows\\n\",\"fourth quadrant: \",str(fourth_quadrant),\"arrows\\n\",\n",
    "      \"x axis: \",str(x_axis),\"arrows\\n\",\"y axis: \",str(y_axis),\"arrows.\")\n",
    "       "
   ]
  },
  {
   "cell_type": "markdown",
   "metadata": {},
   "source": [
    "**Expected output**:\n",
    "```\n",
    "(10, 6, 2, 2)\n",
    "```"
   ]
  },
  {
   "cell_type": "code",
   "execution_count": 8,
   "metadata": {},
   "outputs": [
    {
     "name": "stdout",
     "output_type": "stream",
     "text": [
      "2.0 is the minimun distance\n",
      "Points where the distance is minimun(0, 2)\n",
      "Points where the distance is minimun(0, -2)\n"
     ]
    }
   ],
   "source": [
    "# 3. Find the point closest to the center. Calculate its distance to the center\n",
    "# Defining a function that calculates the distance to the center can help.\n",
    "\n",
    "import math \n",
    "\n",
    "def distance_center(x,y):\n",
    "        \n",
    "        return math.sqrt(x**2+y**2)\n",
    "\n",
    "values = []\n",
    "d = 0\n",
    "\n",
    "for x,y in points:\n",
    "    d = distance_center(x,y)\n",
    "    values.append(d)\n",
    "        \n",
    "points_distance = dict(zip(points,values))\n",
    "\n",
    "print(str(min(values))+\" is the minimun distance\")\n",
    "\n",
    "for x,y in points_distance.items():\n",
    "    if min(values) == y:\n",
    "        print(\"Points where the distance is minimun\"+str(x))"
   ]
  },
  {
   "cell_type": "markdown",
   "metadata": {},
   "source": [
    "**Expected output**:\n",
    "```\n",
    "(0, 2)\n",
    "2.0\n",
    "```"
   ]
  },
  {
   "cell_type": "code",
   "execution_count": 9,
   "metadata": {},
   "outputs": [
    {
     "name": "stdout",
     "output_type": "stream",
     "text": [
      "(9, 9)  this point is out of the bullseye\n",
      "(-8, -9)  this point is out of the bullseye\n",
      "2 out of the bullseye\n"
     ]
    }
   ],
   "source": [
    "# 4. If the target has a radius of 9, calculate the number of arrows that \n",
    "# must be picked up in the forest.\n",
    "\n",
    "n_arrows = 0\n",
    "\n",
    "def distance_center(x,y):\n",
    "        \n",
    "        return math.sqrt(x**2+y**2)\n",
    "\n",
    "values = []\n",
    "d = 0\n",
    "\n",
    "for x,y in points:\n",
    "    d = distance_center(x,y)\n",
    "    values.append(d)\n",
    "        \n",
    "points_distance = dict(zip(points,values))\n",
    "\n",
    "for x,y in points_distance.items():\n",
    "    if y >= 9:\n",
    "        n_arrows += 1\n",
    "        print (x,\" this point is out of the bullseye\")\n",
    "\n",
    "print (n_arrows,\"out of the bullseye\")"
   ]
  },
  {
   "cell_type": "markdown",
   "metadata": {},
   "source": [
    "**Expected output**:\n",
    "```\n",
    "[(9, 9), (-8, -9)]\n",
    "2\n",
    "```"
   ]
  },
  {
   "cell_type": "code",
   "execution_count": null,
   "metadata": {},
   "outputs": [],
   "source": []
  },
  {
   "cell_type": "code",
   "execution_count": null,
   "metadata": {},
   "outputs": [],
   "source": []
  },
  {
   "cell_type": "code",
   "execution_count": null,
   "metadata": {},
   "outputs": [],
   "source": []
  }
 ],
 "metadata": {
  "kernelspec": {
   "display_name": "Python 3",
   "language": "python",
   "name": "python3"
  },
  "language_info": {
   "codemirror_mode": {
    "name": "ipython",
    "version": 3
   },
   "file_extension": ".py",
   "mimetype": "text/x-python",
   "name": "python",
   "nbconvert_exporter": "python",
   "pygments_lexer": "ipython3",
   "version": "3.7.4"
  }
 },
 "nbformat": 4,
 "nbformat_minor": 2
}
